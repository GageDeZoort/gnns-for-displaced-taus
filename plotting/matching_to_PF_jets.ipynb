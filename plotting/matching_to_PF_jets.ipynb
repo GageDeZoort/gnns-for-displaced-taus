{
 "cells": [
  {
   "cell_type": "code",
   "execution_count": 1,
   "id": "432cd329",
   "metadata": {},
   "outputs": [
    {
     "name": "stderr",
     "output_type": "stream",
     "text": [
      "2022-01-18 14:18:07,511 INFO Initializing\n"
     ]
    }
   ],
   "source": [
    "# system\n",
    "import os\n",
    "import sys\n",
    "import logging\n",
    "import pickle\n",
    "import multiprocessing as mp\n",
    "from functools import partial\n",
    "from collections import Counter\n",
    "\n",
    "# externals \n",
    "import uproot\n",
    "import torch\n",
    "import pandas as pd\n",
    "import awkward as ak\n",
    "import numpy as np\n",
    "from torch_geometric.data import DataLoader, Data\n",
    "from matplotlib import pyplot as plt\n",
    "import particle \n",
    "from matplotlib import colors\n",
    "from matplotlib.patches import Ellipse\n",
    "from particle import PDGID\n",
    "from particle import Particle \n",
    "from particle.pdgid import is_meson\n",
    "import mplhep as hep\n",
    "import scipy.stats\n",
    "hep.style.use(\"CMS\")\n",
    "\n",
    "# custom modules\n",
    "sys.path.append('../graph_construction')\n",
    "from build_tau_graphs import *\n",
    "\n",
    "# setup logging\n",
    "log_format = '%(asctime)s %(levelname)s %(message)s'\n",
    "logging.basicConfig(level=logging.INFO, format=log_format)\n",
    "logging.info('Initializing')"
   ]
  },
  {
   "cell_type": "code",
   "execution_count": 2,
   "id": "f94a03d5",
   "metadata": {},
   "outputs": [],
   "source": [
    "def calc_dphi(phi1, phi2):\n",
    "    \"\"\"Computes phi2-phi1 given in range [-pi,pi]\"\"\"\n",
    "    dphi = phi2 - phi1\n",
    "    if (dphi > np.pi): dphi -= 2*np.pi\n",
    "    if (dphi < -np.pi): dphi += 2*np.pi\n",
    "    #dphi[dphi > np.pi] -= 2*np.pi\n",
    "    #dphi[dphi < -np.pi] += 2*np.pi\n",
    "    return dphi\n",
    "\n",
    "def calc_dR(eta1, phi1, eta2, phi2):\n",
    "    return np.sqrt((eta1 - eta2)**2\n",
    "                   + calc_dphi(phi1, phi2)**2)\n",
    "\n",
    "def match_PF_jets(taus, jets, vis):\n",
    "    dR_mins, vxy, v = [], [], []\n",
    "    pt_jet, pt_tau, pt_vis =  [], [], []\n",
    "    jet_spacing = []\n",
    "    \n",
    "    # loop over all events \n",
    "    for i in range(len(taus['pt'])):\n",
    "        dR_min, j_min = 100, 0\n",
    "        dR_jet_min, j_jet_min = 100, 0\n",
    "        \n",
    "        # loop over all PF jets\n",
    "        njets = len(jets['pt'][i])\n",
    "        if (njets < 2): continue\n",
    "        jet_idx = np.random.choice(njets, 1)[0]\n",
    "        for j in range(len(jets['pt'][i])):\n",
    "            dR = calc_dR(jets['eta'][i,j], jets['phi'][i,j],\n",
    "                         taus['eta'][i], taus['phi'][i])\n",
    "            dR_jet = calc_dR(jets['eta'][i,j], jets['phi'][i,j],\n",
    "                             jets['eta'][i,jet_idx], jets['phi'][i,jet_idx])\n",
    "            \n",
    "            # store closest jet\n",
    "            if dR<dR_min:\n",
    "                dR_min, j_min = dR, j\n",
    "            if ((dR_jet<dR_jet_min) and (j!=jet_idx)):\n",
    "                dR_jet_min, j_jet_min = dR_jet, j\n",
    "                      \n",
    "        # otherwise store variables of interest\n",
    "        print(i)\n",
    "        dR_mins.append(dR_min)\n",
    "        pt_tau.append(taus['pt'][i])\n",
    "        pt_jet.append(jets['pt'][i,j_min])\n",
    "        pt_vis.append(ak.sum(vis['pt'][i]))\n",
    "        vxy.append(taus['vxy'][i])\n",
    "        v.append(np.sqrt(taus['vxy'][i]**2 + taus['vz'][i]**2))\n",
    "        jet_spacing.append(dR_jet_min)\n",
    "    \n",
    "    return pd.DataFrame({'dR_min': dR_mins,\n",
    "                         'vxy': vxy, 'v': v,\n",
    "                         'pt_jet': pt_jet,\n",
    "                         'pt_tau': pt_tau,\n",
    "                         'pt_vis': pt_vis,\n",
    "                         'jet_spacing': jet_spacing})"
   ]
  },
  {
   "cell_type": "code",
   "execution_count": null,
   "id": "0a5e15a4",
   "metadata": {
    "scrolled": true
   },
   "outputs": [],
   "source": [
    "skim_dir = '../skims'\n",
    "skims = os.listdir(skim_dir)\n",
    "out = {}\n",
    "for skim in skims:\n",
    "    decay_mode = skim.split('.')[0]\n",
    "    f = os.path.join(skim_dir, skim)\n",
    "    with open(f, 'rb') as handle:\n",
    "        data = pickle.load(handle)\n",
    "        logging.info(f\"Loaded {f}\")\n",
    "        \n",
    "    args = {'tau_pt_min': 5, 'ecal_min': 0.05, 'hcal_min': 0.05}\n",
    "    gen = filter_gen_arrays(data['gen_arrays'], args=args)\n",
    "    reco = filter_reco_arrays(data['reco_arrays'], args=args)\n",
    "    rec = reco['rec_hits']  \n",
    "    jets = reco['jets']\n",
    "    tau = gen['tau']\n",
    "    vis = gen['vis']\n",
    "    inv = gen['inv']\n",
    "    out[decay_mode] = match_PF_jets(tau, jets, vis)\n",
    "    logging.info(f\"Storing output data: {out[decay_mode]}\")"
   ]
  },
  {
   "cell_type": "code",
   "execution_count": 3,
   "id": "529f61bb",
   "metadata": {},
   "outputs": [
    {
     "name": "stderr",
     "output_type": "stream",
     "text": [
      "2022-01-18 14:18:37,355 INFO Loaded ../skims/ThreeProngsNoPi0.p\n",
      "2022-01-18 14:19:07,367 INFO Loaded ../skims/ThreeProngsOnePi0.p\n"
     ]
    },
    {
     "ename": "KeyboardInterrupt",
     "evalue": "",
     "output_type": "error",
     "traceback": [
      "\u001b[0;31m---------------------------------------------------------------------------\u001b[0m",
      "\u001b[0;31mKeyboardInterrupt\u001b[0m                         Traceback (most recent call last)",
      "\u001b[0;32m/tmp/ipykernel_158943/1529513034.py\u001b[0m in \u001b[0;36m<module>\u001b[0;34m\u001b[0m\n\u001b[1;32m     11\u001b[0m     \u001b[0margs\u001b[0m \u001b[0;34m=\u001b[0m \u001b[0;34m{\u001b[0m\u001b[0;34m'tau_pt_min'\u001b[0m\u001b[0;34m:\u001b[0m \u001b[0;36m5\u001b[0m\u001b[0;34m,\u001b[0m \u001b[0;34m'ecal_min'\u001b[0m\u001b[0;34m:\u001b[0m \u001b[0;36m0.05\u001b[0m\u001b[0;34m,\u001b[0m \u001b[0;34m'hcal_min'\u001b[0m\u001b[0;34m:\u001b[0m \u001b[0;36m0.05\u001b[0m\u001b[0;34m}\u001b[0m\u001b[0;34m\u001b[0m\u001b[0;34m\u001b[0m\u001b[0m\n\u001b[1;32m     12\u001b[0m     \u001b[0mgen\u001b[0m \u001b[0;34m=\u001b[0m \u001b[0mfilter_gen_arrays\u001b[0m\u001b[0;34m(\u001b[0m\u001b[0mdata\u001b[0m\u001b[0;34m[\u001b[0m\u001b[0;34m'gen_arrays'\u001b[0m\u001b[0;34m]\u001b[0m\u001b[0;34m,\u001b[0m \u001b[0margs\u001b[0m\u001b[0;34m=\u001b[0m\u001b[0margs\u001b[0m\u001b[0;34m)\u001b[0m\u001b[0;34m\u001b[0m\u001b[0;34m\u001b[0m\u001b[0m\n\u001b[0;32m---> 13\u001b[0;31m     \u001b[0mreco\u001b[0m \u001b[0;34m=\u001b[0m \u001b[0mfilter_reco_arrays\u001b[0m\u001b[0;34m(\u001b[0m\u001b[0mdata\u001b[0m\u001b[0;34m[\u001b[0m\u001b[0;34m'reco_arrays'\u001b[0m\u001b[0;34m]\u001b[0m\u001b[0;34m,\u001b[0m \u001b[0margs\u001b[0m\u001b[0;34m=\u001b[0m\u001b[0margs\u001b[0m\u001b[0;34m)\u001b[0m\u001b[0;34m\u001b[0m\u001b[0;34m\u001b[0m\u001b[0m\n\u001b[0m\u001b[1;32m     14\u001b[0m     \u001b[0mrec\u001b[0m \u001b[0;34m=\u001b[0m \u001b[0mreco\u001b[0m\u001b[0;34m[\u001b[0m\u001b[0;34m'rec_hits'\u001b[0m\u001b[0;34m]\u001b[0m\u001b[0;34m\u001b[0m\u001b[0;34m\u001b[0m\u001b[0m\n\u001b[1;32m     15\u001b[0m     \u001b[0mjets\u001b[0m \u001b[0;34m=\u001b[0m \u001b[0mreco\u001b[0m\u001b[0;34m[\u001b[0m\u001b[0;34m'jets'\u001b[0m\u001b[0;34m]\u001b[0m\u001b[0;34m\u001b[0m\u001b[0;34m\u001b[0m\u001b[0m\n",
      "\u001b[0;32m/tiger/scratch/gpfs/jdezoort/gnns-for-displaced-taus/plotting/../graph_construction/build_tau_graphs.py\u001b[0m in \u001b[0;36mfilter_reco_arrays\u001b[0;34m(data, args)\u001b[0m\n\u001b[1;32m    198\u001b[0m                          \u001b[0;34m'iphi'\u001b[0m\u001b[0;34m:\u001b[0m \u001b[0mdata\u001b[0m\u001b[0;34m[\u001b[0m\u001b[0;34m'rec_hits_hbhe_iphi'\u001b[0m\u001b[0;34m]\u001b[0m\u001b[0;34m[\u001b[0m\u001b[0mhbhe_mask\u001b[0m\u001b[0;34m]\u001b[0m\u001b[0;34m,\u001b[0m\u001b[0;34m\u001b[0m\u001b[0;34m\u001b[0m\u001b[0m\n\u001b[1;32m    199\u001b[0m                          \u001b[0;34m'rho'\u001b[0m\u001b[0;34m:\u001b[0m \u001b[0mdata\u001b[0m\u001b[0;34m[\u001b[0m\u001b[0;34m'rec_hits_hbhe_rho'\u001b[0m\u001b[0;34m]\u001b[0m\u001b[0;34m[\u001b[0m\u001b[0mhbhe_mask\u001b[0m\u001b[0;34m]\u001b[0m\u001b[0;34m,\u001b[0m\u001b[0;34m\u001b[0m\u001b[0;34m\u001b[0m\u001b[0m\n\u001b[0;32m--> 200\u001b[0;31m                          \u001b[0;34m'eta'\u001b[0m\u001b[0;34m:\u001b[0m \u001b[0mdata\u001b[0m\u001b[0;34m[\u001b[0m\u001b[0;34m'rec_hits_hbhe_eta'\u001b[0m\u001b[0;34m]\u001b[0m\u001b[0;34m[\u001b[0m\u001b[0mhbhe_mask\u001b[0m\u001b[0;34m]\u001b[0m\u001b[0;34m,\u001b[0m\u001b[0;34m\u001b[0m\u001b[0;34m\u001b[0m\u001b[0m\n\u001b[0m\u001b[1;32m    201\u001b[0m                          \u001b[0;34m'phi'\u001b[0m\u001b[0;34m:\u001b[0m \u001b[0mdata\u001b[0m\u001b[0;34m[\u001b[0m\u001b[0;34m'rec_hits_hbhe_phi'\u001b[0m\u001b[0;34m]\u001b[0m\u001b[0;34m[\u001b[0m\u001b[0mhbhe_mask\u001b[0m\u001b[0;34m]\u001b[0m\u001b[0;34m,\u001b[0m\u001b[0;34m\u001b[0m\u001b[0;34m\u001b[0m\u001b[0m\n\u001b[1;32m    202\u001b[0m                          \u001b[0;31m#'time': data['rec_hits_hbhe_time'][hbhe_mask]\u001b[0m\u001b[0;34m\u001b[0m\u001b[0;34m\u001b[0m\u001b[0m\n",
      "\u001b[0;32m~/.conda/envs/pyg2_env/lib/python3.9/site-packages/awkward/highlevel.py\u001b[0m in \u001b[0;36m__getitem__\u001b[0;34m(self, where)\u001b[0m\n\u001b[1;32m    994\u001b[0m         \"\"\"\n\u001b[1;32m    995\u001b[0m         \u001b[0;32mif\u001b[0m \u001b[0;32mnot\u001b[0m \u001b[0mhasattr\u001b[0m\u001b[0;34m(\u001b[0m\u001b[0mself\u001b[0m\u001b[0;34m,\u001b[0m \u001b[0;34m\"_tracers\"\u001b[0m\u001b[0;34m)\u001b[0m\u001b[0;34m:\u001b[0m\u001b[0;34m\u001b[0m\u001b[0;34m\u001b[0m\u001b[0m\n\u001b[0;32m--> 996\u001b[0;31m             \u001b[0mtmp\u001b[0m \u001b[0;34m=\u001b[0m \u001b[0mak\u001b[0m\u001b[0;34m.\u001b[0m\u001b[0m_util\u001b[0m\u001b[0;34m.\u001b[0m\u001b[0mwrap\u001b[0m\u001b[0;34m(\u001b[0m\u001b[0mself\u001b[0m\u001b[0;34m.\u001b[0m\u001b[0mlayout\u001b[0m\u001b[0;34m[\u001b[0m\u001b[0mwhere\u001b[0m\u001b[0;34m]\u001b[0m\u001b[0;34m,\u001b[0m \u001b[0mself\u001b[0m\u001b[0;34m.\u001b[0m\u001b[0m_behavior\u001b[0m\u001b[0;34m)\u001b[0m\u001b[0;34m\u001b[0m\u001b[0;34m\u001b[0m\u001b[0m\n\u001b[0m\u001b[1;32m    997\u001b[0m         \u001b[0;32melse\u001b[0m\u001b[0;34m:\u001b[0m\u001b[0;34m\u001b[0m\u001b[0;34m\u001b[0m\u001b[0m\n\u001b[1;32m    998\u001b[0m             \u001b[0mtmp\u001b[0m \u001b[0;34m=\u001b[0m \u001b[0mak\u001b[0m\u001b[0;34m.\u001b[0m\u001b[0m_connect\u001b[0m\u001b[0;34m.\u001b[0m\u001b[0m_jax\u001b[0m\u001b[0;34m.\u001b[0m\u001b[0mjax_utils\u001b[0m\u001b[0;34m.\u001b[0m\u001b[0m_jaxtracers_getitem\u001b[0m\u001b[0;34m(\u001b[0m\u001b[0mself\u001b[0m\u001b[0;34m,\u001b[0m \u001b[0mwhere\u001b[0m\u001b[0;34m)\u001b[0m\u001b[0;34m\u001b[0m\u001b[0;34m\u001b[0m\u001b[0m\n",
      "\u001b[0;31mKeyboardInterrupt\u001b[0m: "
     ]
    }
   ],
   "source": [
    "skim_dir = '../skims'\n",
    "skims = os.listdir(skim_dir)\n",
    "out = {}\n",
    "for skim in skims:\n",
    "    decay_mode = skim.split('.')[0]\n",
    "    f = os.path.join(skim_dir, skim)\n",
    "    with open(f, 'rb') as handle:\n",
    "        data = pickle.load(handle)\n",
    "        logging.info(f\"Loaded {f}\")\n",
    "        \n",
    "    args = {'tau_pt_min': 5, 'ecal_min': 0.05, 'hcal_min': 0.05}\n",
    "    gen = filter_gen_arrays(data['gen_arrays'], args=args)\n",
    "    reco = filter_reco_arrays(data['reco_arrays'], args=args)\n",
    "    rec = reco['rec_hits']  \n",
    "    jets = reco['jets']\n",
    "    tau = gen['tau']\n",
    "    vis = gen['vis']\n",
    "    inv = gen['inv']"
   ]
  },
  {
   "cell_type": "code",
   "execution_count": 11,
   "id": "51fbf7c8",
   "metadata": {},
   "outputs": [
    {
     "name": "stdout",
     "output_type": "stream",
     "text": [
      "364 364\n"
     ]
    }
   ],
   "source": [
    "ieta = np.array(reco['rec_hits']['eb']['ieta'][0])\n",
    "iphi = np.array(reco['rec_hits']['eb']['iphi'][0])\n",
    "ixy = np.column_stack((ieta, iphi))\n",
    "print(len(ixy), len(np.unique(ixy, axis=0)))\n"
   ]
  },
  {
   "cell_type": "code",
   "execution_count": null,
   "id": "9fba4dc8",
   "metadata": {},
   "outputs": [],
   "source": [
    "import seaborn as sns\n",
    "\n",
    "# plot the dR(matched jet, tau) distribution\n",
    "all_dms = [val for val in out.values()]\n",
    "all_dm_out = pd.concat(all_dms).reset_index()\n",
    "plt.figure(dpi=200)\n",
    "#sns.histplot(x=all_dm_out['dR_min'], element='step', label='all dms')\n",
    "for name, data in out.items():\n",
    "    sns.histplot(x=data['dR_min'], element='step', fill=False, label=name)\n",
    "plt.xlabel(r'Minimum $dR(j,\\tau_h)$')\n",
    "plt.legend(loc='best')\n",
    "plt.xlim([0,3])\n",
    "plt.show()"
   ]
  },
  {
   "cell_type": "code",
   "execution_count": null,
   "id": "54532f43",
   "metadata": {},
   "outputs": [],
   "source": [
    "all_dms = [val for val in out.values()]\n",
    "all_dm_out = pd.concat(all_dms).reset_index()\n",
    "plt.figure(dpi=200)\n",
    "print(all_dm_out['jet_spacing'])\n",
    "sns.histplot(x=all_dm_out['jet_spacing'], element='step', label='all dms')\n",
    "#for name, data in out.items():\n",
    "#    sns.histplot(x=data['dR_min'], element='step', fill=False, label=name)\n",
    "plt.xlabel(r'Avg Jet Spacing')\n",
    "plt.legend(loc='best')\n",
    "plt.xlim([0,3])\n",
    "plt.show()"
   ]
  },
  {
   "cell_type": "code",
   "execution_count": null,
   "id": "d11e2e5c",
   "metadata": {},
   "outputs": [],
   "source": [
    "# plot dR vs. vxy\n",
    "plt.figure(dpi=200)\n",
    "all_dms = [val for val in out.values()]\n",
    "all_dm_out = pd.concat(all_dms).reset_index()\n",
    "print(np.min(all_dm_out['vxy']))\n",
    "sns.regplot(x=all_dm_out['vxy'], y=all_dm_out['dR_min'], x_bins=np.arange(0,100,5), \n",
    "            marker='o', color='blue', fit_reg=False)\n",
    "plt.xlabel('$v_{xy}$ [cm]')\n",
    "plt.ylabel(r'$dR(j,\\tau_h)$')\n",
    "plt.ylim([0.3, 0.6])\n",
    "plt.show()"
   ]
  },
  {
   "cell_type": "code",
   "execution_count": null,
   "id": "5fc1f6cd",
   "metadata": {},
   "outputs": [],
   "source": [
    "# plot dR vs. vxy\n",
    "plt.figure(dpi=200)\n",
    "for name, data in out.items():\n",
    "    sns.regplot(x=data['vxy'], y=data['dR_min'], x_bins=5, marker='o',\n",
    "                fit_reg=False, label=name, scatter_kws={})\n",
    "plt.legend(loc='best')\n",
    "plt.xlabel('$v_{xy}$ [cm]')\n",
    "plt.ylabel(r'$dR(j,\\tau_h)$')\n",
    "plt.show()"
   ]
  },
  {
   "cell_type": "code",
   "execution_count": null,
   "id": "bf38b36d",
   "metadata": {},
   "outputs": [],
   "source": [
    "# plot the dR(matched jet, tau) distribution\n",
    "fig = plt.figure(dpi=200)\n",
    "for name, data in out.items():\n",
    "    dRs = [0.1, 0.15, 0.2, 0.25, 0.3, 0.35, 0.4, 0.45, 0.5, 0.55, 0.6]\n",
    "    match = []\n",
    "    no_match = []\n",
    "    for dR in dRs:\n",
    "        matched = (data['dR_min'] < dR)\n",
    "        match.append(ak.sum(matched)/len(matched))\n",
    "        \n",
    "    sns.scatterplot(x=dRs, y=match, label=name)   \n",
    "    \n",
    "plt.legend(loc='best')\n",
    "plt.xlabel('dR Match Threshold')\n",
    "plt.ylabel('Fraction of Matches')\n",
    "plt.show()"
   ]
  },
  {
   "cell_type": "code",
   "execution_count": null,
   "id": "73596114",
   "metadata": {},
   "outputs": [],
   "source": [
    "# plot vis pt vs jet pt for matched and not matched\n",
    "plt.figure(dpi=200)\n",
    "all_dms = [val for val in out.values()]\n",
    "all_dm_out = pd.concat(all_dms).reset_index()\n",
    "matched = (all_dm_out['dR_min'] < 0.7)\n",
    "sns.regplot(x=all_dm_out['pt_vis'][matched], y=all_dm_out['pt_jet'][matched], \n",
    "            marker='o', x_bins=np.arange(0,100,2),\n",
    "            color='green', fit_reg=True, label=r'$dR(j,\\tau_h)<0.7$')\n",
    "sns.regplot(x=all_dm_out['pt_vis'][~matched], y=all_dm_out['pt_jet'][~matched], \n",
    "            marker='o', x_bins=np.arange(0,100,2),\n",
    "            color='blue', fit_reg=True, label=r'$dR(j,\\tau_h)>0.7$')\n",
    "plt.xlabel('$p_T^\\mathrm{vis}$ [GeV]')\n",
    "plt.ylabel('$p_T^\\mathrm{jet}$ [GeV]')\n",
    "plt.xlim([0,100])\n",
    "plt.legend(loc='best')\n",
    "plt.show()"
   ]
  },
  {
   "cell_type": "code",
   "execution_count": null,
   "id": "324592d1",
   "metadata": {},
   "outputs": [],
   "source": [
    "plt.figure(dpi=200)\n",
    "all_dms = [val for val in out.values()]\n",
    "all_dm_out = pd.concat(all_dms).reset_index()\n",
    "matched = (all_dm_out['dR_min'] < 0.7)\n",
    "sns.regplot(x=all_dm_out['vxy'], y=matched, x_bins=np.arange(0,100,5),\n",
    "            marker='o', fit_reg=False)\n",
    "plt.xlabel('$v_{xy}$ [cm]')\n",
    "plt.ylabel(r'Fraction with $dR(j,\\tau_h)<0.7$')\n",
    "plt.show()"
   ]
  },
  {
   "cell_type": "code",
   "execution_count": null,
   "id": "b85b0980",
   "metadata": {
    "scrolled": false
   },
   "outputs": [],
   "source": [
    "# plot the dR(matched jet, tau) distribution\n",
    "for i, (name, data) in enumerate(out.items()):\n",
    "    fig = plt.figure(dpi=200)\n",
    "    dRs = [0.15, 0.3, 0.4, 0.5]\n",
    "    for dR in dRs:\n",
    "        matched = (data['dR_min'] < dR)\n",
    "        sns.regplot(x=data['vxy'], y=matched, x_bins=np.arange(0,100,10), \n",
    "                    marker='o', fit_reg=False, label=f\"dR<{dR}\")\n",
    "    plt.title(name)\n",
    "    plt.legend(loc='best')\n",
    "    plt.xlabel('$v_{xy}$ [cm]')\n",
    "    plt.ylabel(r'Fraction with $dR(j,\\tau_h)<0.4$')\n",
    "    plt.show()"
   ]
  },
  {
   "cell_type": "code",
   "execution_count": null,
   "id": "fcddc0bc",
   "metadata": {},
   "outputs": [],
   "source": [
    "plt.figure(dpi=200)\n",
    "all_dms = [val for val in out.values()]\n",
    "all_dm_out = pd.concat(all_dms).reset_index()\n",
    "matched = (all_dm_out['dR_min'] < 0.4)\n",
    "\n",
    "sns.regplot(x=all_dm_out['vxy'], y=matched, x_bins=np.arange(0,100,5),\n",
    "            marker='o', fit_reg=False)\n",
    "plt.xlabel('$v_{xy}$ [cm]')\n",
    "plt.ylabel(r'Fraction with $dR(j,\\tau_h)<0.4$')\n",
    "plt.show()"
   ]
  },
  {
   "cell_type": "code",
   "execution_count": null,
   "id": "8404809a",
   "metadata": {
    "scrolled": false
   },
   "outputs": [],
   "source": [
    "plt.figure(dpi=200)\n",
    "all_dms = [val for val in out.values()]\n",
    "all_dm_out = pd.concat(all_dms).reset_index()\n",
    "matched = (all_dm_out['dR_min'] < 0.4)\n",
    "y = (all_dm_out['pt_jet']-all_dm_out['pt_vis'])/all_dm_out['pt_vis']\n",
    "sns.regplot(x=all_dm_out['vxy'][matched], y=y[matched], x_bins=np.arange(0,100,5),\n",
    "            marker='o', fit_reg=False, label=r\"$dR(j,\\tau_h)<0.4$\")\n",
    "sns.regplot(x=all_dm_out['vxy'][~matched], y=y[~matched], x_bins=np.arange(0,100,5),\n",
    "            marker='o', fit_reg=False, label=r\"$dR(j,\\tau_h)>0.4$\")\n",
    "plt.xlabel('$v_{xy}$ [cm]')\n",
    "plt.ylabel(r'$(p_T^\\mathrm{vis}-p_T^\\mathrm{jet})/p_T^\\mathrm{vis}$')\n",
    "plt.legend(loc='best')\n",
    "plt.show()"
   ]
  }
 ],
 "metadata": {
  "kernelspec": {
   "display_name": "Python 3 (ipykernel)",
   "language": "python",
   "name": "python3"
  },
  "language_info": {
   "codemirror_mode": {
    "name": "ipython",
    "version": 3
   },
   "file_extension": ".py",
   "mimetype": "text/x-python",
   "name": "python",
   "nbconvert_exporter": "python",
   "pygments_lexer": "ipython3",
   "version": "3.9.7"
  }
 },
 "nbformat": 4,
 "nbformat_minor": 5
}
